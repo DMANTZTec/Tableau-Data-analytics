{
 "cells": [
  {
   "cell_type": "code",
   "execution_count": 2,
   "metadata": {},
   "outputs": [],
   "source": [
    "\n",
    "import psutil\n",
    "from plyer import notification\n",
    "import time\n",
    " \n",
    " \n",
    " \n",
    "# from psutil we will import the\n",
    "# sensors_battery class and with\n",
    "# that we have the battery remaining\n",
    "while(True):\n",
    "    battery = psutil.sensors_battery()\n",
    "    percent = battery.percent\n",
    "     \n",
    "    notification.notify(\n",
    "        title=\"Battery Percentage\",\n",
    "        message=str(percent)+\"% Battery remaining\",\n",
    "        timeout=10\n",
    "    )\n",
    "     \n",
    "    # after every 60 mins it will show the\n",
    "    # battery percentage\n",
    "    time.sleep(60*10)\n",
    "     \n",
    "    continue"
   ]
  }
 ],
 "metadata": {
  "interpreter": {
   "hash": "0ac516125b3ee16d4eaa41f008fade7bad50b808bd1b6d74d2e8ae0015ba9066"
  },
  "kernelspec": {
   "display_name": "Python 3.9.7 64-bit",
   "language": "python",
   "name": "python3"
  },
  "language_info": {
   "codemirror_mode": {
    "name": "ipython",
    "version": 3
   },
   "file_extension": ".py",
   "mimetype": "text/x-python",
   "name": "python",
   "nbconvert_exporter": "python",
   "pygments_lexer": "ipython3",
   "version": "3.9.7"
  },
  "orig_nbformat": 4
 },
 "nbformat": 4,
 "nbformat_minor": 2
}
