{
 "cells": [
  {
   "cell_type": "code",
   "execution_count": 15,
   "metadata": {},
   "outputs": [],
   "source": [
    "import pandas as pd\n",
    "from math import pi\n",
    "hari = pd.read_excel(\"HARISH TASK.xlsx\", parse_dates=[\"START DATE\"])\n",
    "from bokeh.plotting import figure, show, output_file\n",
    "# from bokeh.embed import components\n",
    "from bokeh.transform import cumsum\n",
    "# from bokeh.resources import CDN\n",
    "from bokeh.models import ColumnDataSource\n",
    "from bokeh.palettes import Category20c\n",
    "from bokeh.palettes import Spectral6"
   ]
  },
  {
   "cell_type": "code",
   "execution_count": null,
   "metadata": {},
   "outputs": [],
   "source": [
    "hari"
   ]
  },
  {
   "cell_type": "code",
   "execution_count": 3,
   "metadata": {},
   "outputs": [
    {
     "data": {
      "text/html": [
       "<div>\n",
       "<style scoped>\n",
       "    .dataframe tbody tr th:only-of-type {\n",
       "        vertical-align: middle;\n",
       "    }\n",
       "\n",
       "    .dataframe tbody tr th {\n",
       "        vertical-align: top;\n",
       "    }\n",
       "\n",
       "    .dataframe thead th {\n",
       "        text-align: right;\n",
       "    }\n",
       "</style>\n",
       "<table border=\"1\" class=\"dataframe\">\n",
       "  <thead>\n",
       "    <tr style=\"text-align: right;\">\n",
       "      <th></th>\n",
       "      <th>SUBJECT</th>\n",
       "      <th>noOfTasks</th>\n",
       "    </tr>\n",
       "  </thead>\n",
       "  <tbody>\n",
       "    <tr>\n",
       "      <th>0</th>\n",
       "      <td>ANDROID</td>\n",
       "      <td>4</td>\n",
       "    </tr>\n",
       "    <tr>\n",
       "      <th>1</th>\n",
       "      <td>AWS LAMBDA</td>\n",
       "      <td>27</td>\n",
       "    </tr>\n",
       "    <tr>\n",
       "      <th>2</th>\n",
       "      <td>PYTHON</td>\n",
       "      <td>7</td>\n",
       "    </tr>\n",
       "    <tr>\n",
       "      <th>3</th>\n",
       "      <td>PYTHON 3.7,3.9</td>\n",
       "      <td>1</td>\n",
       "    </tr>\n",
       "    <tr>\n",
       "      <th>4</th>\n",
       "      <td>REACT</td>\n",
       "      <td>4</td>\n",
       "    </tr>\n",
       "    <tr>\n",
       "      <th>5</th>\n",
       "      <td>REACT NATIVE</td>\n",
       "      <td>60</td>\n",
       "    </tr>\n",
       "    <tr>\n",
       "      <th>6</th>\n",
       "      <td>VISUAL STUDIO</td>\n",
       "      <td>1</td>\n",
       "    </tr>\n",
       "  </tbody>\n",
       "</table>\n",
       "</div>"
      ],
      "text/plain": [
       "          SUBJECT  noOfTasks\n",
       "0         ANDROID          4\n",
       "1      AWS LAMBDA         27\n",
       "2          PYTHON          7\n",
       "3  PYTHON 3.7,3.9          1\n",
       "4           REACT          4\n",
       "5    REACT NATIVE         60\n",
       "6   VISUAL STUDIO          1"
      ]
     },
     "execution_count": 3,
     "metadata": {},
     "output_type": "execute_result"
    }
   ],
   "source": [
    "hari1 = hari.groupby(\"SUBJECT\")[\"MODULE\"].count()\n",
    "hari2 = pd.Series(hari1).reset_index(name=\"noOfTasks\")\n",
    "hari2"
   ]
  },
  {
   "cell_type": "code",
   "execution_count": 4,
   "metadata": {},
   "outputs": [
    {
     "data": {
      "text/plain": [
       "['ANDROID',\n",
       " 'AWS LAMBDA',\n",
       " 'PYTHON',\n",
       " 'PYTHON 3.7,3.9',\n",
       " 'REACT',\n",
       " 'REACT NATIVE',\n",
       " 'VISUAL STUDIO']"
      ]
     },
     "execution_count": 4,
     "metadata": {},
     "output_type": "execute_result"
    }
   ],
   "source": [
    "hari7 = hari2[\"SUBJECT\"].tolist()\n",
    "hari7"
   ]
  },
  {
   "cell_type": "code",
   "execution_count": 5,
   "metadata": {},
   "outputs": [
    {
     "data": {
      "text/plain": [
       "[4, 27, 7, 1, 4, 60, 1]"
      ]
     },
     "execution_count": 5,
     "metadata": {},
     "output_type": "execute_result"
    }
   ],
   "source": [
    "hari8 = hari2[\"noOfTasks\"].tolist()\n",
    "hari8"
   ]
  },
  {
   "cell_type": "code",
   "execution_count": 14,
   "metadata": {},
   "outputs": [],
   "source": [
    "source = ColumnDataSource(data=dict(hari7 = hari7, hari8=hari8, color=Category20c[len(hari7)]))\n",
    "\n",
    "hary = figure(x_range=hari7, width=500, height=300, toolbar_location=None,\n",
    "            tools=\"hover\", tooltips=\"@hari7 : @hari8 Tasks\", title=\"noOfTasks by subject by harish\")\n",
    "\n",
    "hary.vbar(x=\"hari7\", top=\"hari8\", width=0.6, color=\"color\",legend_field=\"hari7\", source=source)\n",
    "\n",
    "hary.grid.grid_line_alpha = 0\n",
    "\n",
    "show(hary)"
   ]
  },
  {
   "cell_type": "code",
   "execution_count": 23,
   "metadata": {},
   "outputs": [
    {
     "data": {
      "text/html": [
       "<div>\n",
       "<style scoped>\n",
       "    .dataframe tbody tr th:only-of-type {\n",
       "        vertical-align: middle;\n",
       "    }\n",
       "\n",
       "    .dataframe tbody tr th {\n",
       "        vertical-align: top;\n",
       "    }\n",
       "\n",
       "    .dataframe thead th {\n",
       "        text-align: right;\n",
       "    }\n",
       "</style>\n",
       "<table border=\"1\" class=\"dataframe\">\n",
       "  <thead>\n",
       "    <tr style=\"text-align: right;\">\n",
       "      <th></th>\n",
       "      <th>SUBJECT</th>\n",
       "      <th>Hours</th>\n",
       "      <th>angle</th>\n",
       "      <th>color</th>\n",
       "    </tr>\n",
       "  </thead>\n",
       "  <tbody>\n",
       "    <tr>\n",
       "      <th>0</th>\n",
       "      <td>ANDROID</td>\n",
       "      <td>7.0</td>\n",
       "      <td>0.144583</td>\n",
       "      <td>#3182bd</td>\n",
       "    </tr>\n",
       "    <tr>\n",
       "      <th>1</th>\n",
       "      <td>AWS LAMBDA</td>\n",
       "      <td>82.3</td>\n",
       "      <td>1.699889</td>\n",
       "      <td>#6baed6</td>\n",
       "    </tr>\n",
       "    <tr>\n",
       "      <th>2</th>\n",
       "      <td>PYTHON</td>\n",
       "      <td>21.0</td>\n",
       "      <td>0.433750</td>\n",
       "      <td>#9ecae1</td>\n",
       "    </tr>\n",
       "    <tr>\n",
       "      <th>3</th>\n",
       "      <td>PYTHON 3.7,3.9</td>\n",
       "      <td>2.0</td>\n",
       "      <td>0.041310</td>\n",
       "      <td>#c6dbef</td>\n",
       "    </tr>\n",
       "    <tr>\n",
       "      <th>4</th>\n",
       "      <td>REACT</td>\n",
       "      <td>9.0</td>\n",
       "      <td>0.185893</td>\n",
       "      <td>#e6550d</td>\n",
       "    </tr>\n",
       "    <tr>\n",
       "      <th>5</th>\n",
       "      <td>REACT NATIVE</td>\n",
       "      <td>180.9</td>\n",
       "      <td>3.736450</td>\n",
       "      <td>#fd8d3c</td>\n",
       "    </tr>\n",
       "    <tr>\n",
       "      <th>6</th>\n",
       "      <td>VISUAL STUDIO</td>\n",
       "      <td>2.0</td>\n",
       "      <td>0.041310</td>\n",
       "      <td>#fdae6b</td>\n",
       "    </tr>\n",
       "  </tbody>\n",
       "</table>\n",
       "</div>"
      ],
      "text/plain": [
       "          SUBJECT  Hours     angle    color\n",
       "0         ANDROID    7.0  0.144583  #3182bd\n",
       "1      AWS LAMBDA   82.3  1.699889  #6baed6\n",
       "2          PYTHON   21.0  0.433750  #9ecae1\n",
       "3  PYTHON 3.7,3.9    2.0  0.041310  #c6dbef\n",
       "4           REACT    9.0  0.185893  #e6550d\n",
       "5    REACT NATIVE  180.9  3.736450  #fd8d3c\n",
       "6   VISUAL STUDIO    2.0  0.041310  #fdae6b"
      ]
     },
     "execution_count": 23,
     "metadata": {},
     "output_type": "execute_result"
    }
   ],
   "source": [
    "hari6 = hari.groupby(\"SUBJECT\")[\"ACTUAL TIME\"].sum()\n",
    "hari9 = pd.Series(hari6).reset_index(name=\"Hours\")\n",
    "hari9[\"angle\"] = hari9[\"Hours\"] / hari9[\"Hours\"].sum() *2*pi\n",
    "hari9[\"color\"] = Category20c[len(hari9)]\n",
    "hari9\n"
   ]
  },
  {
   "cell_type": "code",
   "execution_count": 25,
   "metadata": {},
   "outputs": [],
   "source": [
    "hari10 = figure(height=350, toolbar_location=None, tools=\"hover\", tooltips=\"@SUBJECT:@Hours\", \n",
    "            title=\"pie chart on hours spend by HARISH\")\n",
    "\n",
    "\n",
    "hari10.wedge(x=1, y=0, radius=0.4, \n",
    "        start_angle=cumsum(\"angle\", include_zero=True), end_angle=cumsum(\"angle\"),\n",
    "        line_color=\"white\", fill_color=\"color\",legend_field=\"SUBJECT\", source=hari9)\n",
    "\n",
    "hari10.grid.grid_line_alpha = 0\n",
    "\n",
    "show(hari10)"
   ]
  }
 ],
 "metadata": {
  "interpreter": {
   "hash": "0ac516125b3ee16d4eaa41f008fade7bad50b808bd1b6d74d2e8ae0015ba9066"
  },
  "kernelspec": {
   "display_name": "Python 3.9.7 64-bit",
   "language": "python",
   "name": "python3"
  },
  "language_info": {
   "codemirror_mode": {
    "name": "ipython",
    "version": 3
   },
   "file_extension": ".py",
   "mimetype": "text/x-python",
   "name": "python",
   "nbconvert_exporter": "python",
   "pygments_lexer": "ipython3",
   "version": "3.9.7"
  },
  "orig_nbformat": 4
 },
 "nbformat": 4,
 "nbformat_minor": 2
}
