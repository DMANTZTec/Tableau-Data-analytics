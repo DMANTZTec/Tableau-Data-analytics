{
 "cells": [
  {
   "cell_type": "code",
   "execution_count": 43,
   "metadata": {},
   "outputs": [],
   "source": [
    "import pandas\n",
    "import matplotlib.pyplot as plt\n",
    "data = pandas.read_excel(\"GiridharYerra sheet.xlsx\", parse_dates=[\"START DATE\"])"
   ]
  },
  {
   "cell_type": "code",
   "execution_count": 10,
   "metadata": {},
   "outputs": [
    {
     "data": {
      "text/html": [
       "<div>\n",
       "<style scoped>\n",
       "    .dataframe tbody tr th:only-of-type {\n",
       "        vertical-align: middle;\n",
       "    }\n",
       "\n",
       "    .dataframe tbody tr th {\n",
       "        vertical-align: top;\n",
       "    }\n",
       "\n",
       "    .dataframe thead th {\n",
       "        text-align: right;\n",
       "    }\n",
       "</style>\n",
       "<table border=\"1\" class=\"dataframe\">\n",
       "  <thead>\n",
       "    <tr style=\"text-align: right;\">\n",
       "      <th></th>\n",
       "      <th>NAME</th>\n",
       "      <th>TASK ID</th>\n",
       "      <th>SUBJECT</th>\n",
       "      <th>MODULE</th>\n",
       "      <th>TOPIC NAME</th>\n",
       "      <th>TOPIC ID</th>\n",
       "      <th>START DATE</th>\n",
       "      <th>END DATE</th>\n",
       "      <th>SPEND HOURS</th>\n",
       "      <th>REFERNCES</th>\n",
       "    </tr>\n",
       "  </thead>\n",
       "  <tbody>\n",
       "    <tr>\n",
       "      <th>0</th>\n",
       "      <td>Giridhar Yerra</td>\n",
       "      <td>YG2021081801</td>\n",
       "      <td>PYTHON</td>\n",
       "      <td>Python Basics</td>\n",
       "      <td>Course Overview</td>\n",
       "      <td>PY00001</td>\n",
       "      <td>2021-08-18</td>\n",
       "      <td>2021-08-18</td>\n",
       "      <td>1</td>\n",
       "      <td>Udemy</td>\n",
       "    </tr>\n",
       "    <tr>\n",
       "      <th>1</th>\n",
       "      <td>Giridhar Yerra</td>\n",
       "      <td>YG2021081802</td>\n",
       "      <td>PYTHON</td>\n",
       "      <td>Python Basics</td>\n",
       "      <td>Variables, Python shell</td>\n",
       "      <td>PY00002</td>\n",
       "      <td>2021-08-18</td>\n",
       "      <td>2021-08-18</td>\n",
       "      <td>2</td>\n",
       "      <td>Udemy</td>\n",
       "    </tr>\n",
       "    <tr>\n",
       "      <th>2</th>\n",
       "      <td>Giridhar Yerra</td>\n",
       "      <td>YG2021081803</td>\n",
       "      <td>PYTHON</td>\n",
       "      <td>Python Basics</td>\n",
       "      <td>Simple Data Types</td>\n",
       "      <td>PY00003</td>\n",
       "      <td>2021-08-18</td>\n",
       "      <td>2021-08-18</td>\n",
       "      <td>2</td>\n",
       "      <td>Udemy</td>\n",
       "    </tr>\n",
       "    <tr>\n",
       "      <th>3</th>\n",
       "      <td>Giridhar Yerra</td>\n",
       "      <td>YG2021081804</td>\n",
       "      <td>PYTHON</td>\n",
       "      <td>Python Basics</td>\n",
       "      <td>Attributes</td>\n",
       "      <td>PY00004</td>\n",
       "      <td>2021-08-18</td>\n",
       "      <td>2021-08-18</td>\n",
       "      <td>2</td>\n",
       "      <td>Udemy</td>\n",
       "    </tr>\n",
       "    <tr>\n",
       "      <th>4</th>\n",
       "      <td>Giridhar Yerra</td>\n",
       "      <td>YG20210819</td>\n",
       "      <td>PYTHON</td>\n",
       "      <td>Data Structures</td>\n",
       "      <td>List,Tuple,Dictionary,Set</td>\n",
       "      <td>PY00005</td>\n",
       "      <td>2021-08-19</td>\n",
       "      <td>2021-08-20</td>\n",
       "      <td>5</td>\n",
       "      <td>Udemy</td>\n",
       "    </tr>\n",
       "  </tbody>\n",
       "</table>\n",
       "</div>"
      ],
      "text/plain": [
       "             NAME       TASK ID SUBJECT           MODULE  \\\n",
       "0  Giridhar Yerra  YG2021081801  PYTHON    Python Basics   \n",
       "1  Giridhar Yerra  YG2021081802  PYTHON    Python Basics   \n",
       "2  Giridhar Yerra  YG2021081803  PYTHON    Python Basics   \n",
       "3  Giridhar Yerra  YG2021081804  PYTHON    Python Basics   \n",
       "4  Giridhar Yerra    YG20210819  PYTHON  Data Structures   \n",
       "\n",
       "                  TOPIC NAME TOPIC ID START DATE   END DATE  SPEND HOURS  \\\n",
       "0            Course Overview  PY00001 2021-08-18 2021-08-18            1   \n",
       "1    Variables, Python shell  PY00002 2021-08-18 2021-08-18            2   \n",
       "2          Simple Data Types  PY00003 2021-08-18 2021-08-18            2   \n",
       "3                 Attributes  PY00004 2021-08-18 2021-08-18            2   \n",
       "4  List,Tuple,Dictionary,Set  PY00005 2021-08-19 2021-08-20            5   \n",
       "\n",
       "  REFERNCES  \n",
       "0     Udemy  \n",
       "1     Udemy  \n",
       "2     Udemy  \n",
       "3     Udemy  \n",
       "4     Udemy  "
      ]
     },
     "execution_count": 10,
     "metadata": {},
     "output_type": "execute_result"
    }
   ],
   "source": [
    "data.head()"
   ]
  },
  {
   "cell_type": "code",
   "execution_count": 82,
   "metadata": {},
   "outputs": [
    {
     "data": {
      "text/html": [
       "<div>\n",
       "<style scoped>\n",
       "    .dataframe tbody tr th:only-of-type {\n",
       "        vertical-align: middle;\n",
       "    }\n",
       "\n",
       "    .dataframe tbody tr th {\n",
       "        vertical-align: top;\n",
       "    }\n",
       "\n",
       "    .dataframe thead th {\n",
       "        text-align: right;\n",
       "    }\n",
       "</style>\n",
       "<table border=\"1\" class=\"dataframe\">\n",
       "  <thead>\n",
       "    <tr style=\"text-align: right;\">\n",
       "      <th></th>\n",
       "      <th>NAME</th>\n",
       "      <th>TASK ID</th>\n",
       "      <th>SUBJECT</th>\n",
       "      <th>MODULE</th>\n",
       "      <th>TOPIC NAME</th>\n",
       "      <th>TOPIC ID</th>\n",
       "      <th>START DATE</th>\n",
       "      <th>END DATE</th>\n",
       "      <th>SPEND HOURS</th>\n",
       "      <th>REFERNCES</th>\n",
       "      <th>weekday</th>\n",
       "    </tr>\n",
       "  </thead>\n",
       "  <tbody>\n",
       "    <tr>\n",
       "      <th>7</th>\n",
       "      <td>Giridhar Yerra</td>\n",
       "      <td>YG2021082201</td>\n",
       "      <td>PYTHON</td>\n",
       "      <td>Loops</td>\n",
       "      <td>For,While</td>\n",
       "      <td>PY00008</td>\n",
       "      <td>2021-08-22</td>\n",
       "      <td>2021-08-22</td>\n",
       "      <td>2</td>\n",
       "      <td>Udemy</td>\n",
       "      <td>Sunday</td>\n",
       "    </tr>\n",
       "    <tr>\n",
       "      <th>8</th>\n",
       "      <td>Giridhar Yerra</td>\n",
       "      <td>YG2021082202</td>\n",
       "      <td>DATA ANALYTICS</td>\n",
       "      <td>Data Analytics</td>\n",
       "      <td>Overview Of Data Analutics</td>\n",
       "      <td>DA0001</td>\n",
       "      <td>2021-08-22</td>\n",
       "      <td>2021-08-22</td>\n",
       "      <td>4</td>\n",
       "      <td>youtube, w3schools</td>\n",
       "      <td>Sunday</td>\n",
       "    </tr>\n",
       "    <tr>\n",
       "      <th>9</th>\n",
       "      <td>Giridhar Yerra</td>\n",
       "      <td>YG2021082203</td>\n",
       "      <td>PYTHON</td>\n",
       "      <td>Building Program</td>\n",
       "      <td>Introduction</td>\n",
       "      <td>PY00009</td>\n",
       "      <td>2021-08-22</td>\n",
       "      <td>2021-08-22</td>\n",
       "      <td>4</td>\n",
       "      <td>Udemy</td>\n",
       "      <td>Sunday</td>\n",
       "    </tr>\n",
       "    <tr>\n",
       "      <th>10</th>\n",
       "      <td>Giridhar Yerra</td>\n",
       "      <td>YG20210824</td>\n",
       "      <td>PYTHON</td>\n",
       "      <td>Building Program</td>\n",
       "      <td>Build a Program</td>\n",
       "      <td>PY00010</td>\n",
       "      <td>2021-08-24</td>\n",
       "      <td>2021-08-24</td>\n",
       "      <td>2</td>\n",
       "      <td>Udemy</td>\n",
       "      <td>Tuesday</td>\n",
       "    </tr>\n",
       "    <tr>\n",
       "      <th>11</th>\n",
       "      <td>Giridhar Yerra</td>\n",
       "      <td>YG2021082501</td>\n",
       "      <td>PYTHON</td>\n",
       "      <td>Comprehensions</td>\n",
       "      <td>List Comprehensions</td>\n",
       "      <td>PY00011</td>\n",
       "      <td>2021-08-25</td>\n",
       "      <td>2021-08-25</td>\n",
       "      <td>4</td>\n",
       "      <td>Udemy</td>\n",
       "      <td>Wednesday</td>\n",
       "    </tr>\n",
       "    <tr>\n",
       "      <th>12</th>\n",
       "      <td>Giridhar Yerra</td>\n",
       "      <td>YG2021082502</td>\n",
       "      <td>GIT</td>\n",
       "      <td>Git &amp; GitHub</td>\n",
       "      <td>Git Installation,Repositories,Commit &amp; Push</td>\n",
       "      <td>GIT0001</td>\n",
       "      <td>2021-08-25</td>\n",
       "      <td>2021-08-25</td>\n",
       "      <td>5</td>\n",
       "      <td>youtube, w3schools</td>\n",
       "      <td>Wednesday</td>\n",
       "    </tr>\n",
       "    <tr>\n",
       "      <th>13</th>\n",
       "      <td>Giridhar Yerra</td>\n",
       "      <td>YG2021082601</td>\n",
       "      <td>PYTHON</td>\n",
       "      <td>Multiple Python Functions</td>\n",
       "      <td>Functions and Multiple Aruguments,Parameters</td>\n",
       "      <td>PY00012</td>\n",
       "      <td>2021-08-26</td>\n",
       "      <td>2021-08-26</td>\n",
       "      <td>7</td>\n",
       "      <td>Udemy</td>\n",
       "      <td>Thursday</td>\n",
       "    </tr>\n",
       "    <tr>\n",
       "      <th>14</th>\n",
       "      <td>Giridhar Yerra</td>\n",
       "      <td>YG2021082602</td>\n",
       "      <td>GIT</td>\n",
       "      <td>Git &amp; GitHub</td>\n",
       "      <td>Commit &amp; Push</td>\n",
       "      <td>GIT0002</td>\n",
       "      <td>2021-08-26</td>\n",
       "      <td>2021-08-26</td>\n",
       "      <td>3</td>\n",
       "      <td>youtube, w3schools</td>\n",
       "      <td>Thursday</td>\n",
       "    </tr>\n",
       "    <tr>\n",
       "      <th>15</th>\n",
       "      <td>Giridhar Yerra</td>\n",
       "      <td>YG20210827</td>\n",
       "      <td>PYTHON</td>\n",
       "      <td>File Processing</td>\n",
       "      <td>Read a file ,Opening File using with,Different...</td>\n",
       "      <td>PY00013</td>\n",
       "      <td>2021-08-27</td>\n",
       "      <td>2021-08-27</td>\n",
       "      <td>2</td>\n",
       "      <td>Udemy</td>\n",
       "      <td>Friday</td>\n",
       "    </tr>\n",
       "    <tr>\n",
       "      <th>16</th>\n",
       "      <td>Giridhar Yerra</td>\n",
       "      <td>YG20210828</td>\n",
       "      <td>PYTHON</td>\n",
       "      <td>Modules</td>\n",
       "      <td>Built Modules,standard Python Modules</td>\n",
       "      <td>PY00014</td>\n",
       "      <td>2021-08-28</td>\n",
       "      <td>2021-08-28</td>\n",
       "      <td>3</td>\n",
       "      <td>Udemy</td>\n",
       "      <td>Saturday</td>\n",
       "    </tr>\n",
       "    <tr>\n",
       "      <th>17</th>\n",
       "      <td>Giridhar Yerra</td>\n",
       "      <td>YG20210829</td>\n",
       "      <td>PYTHON</td>\n",
       "      <td>Modules</td>\n",
       "      <td>Third-Party Modules with examples</td>\n",
       "      <td>PY00015</td>\n",
       "      <td>2021-08-29</td>\n",
       "      <td>2021-08-29</td>\n",
       "      <td>4</td>\n",
       "      <td>Udemy</td>\n",
       "      <td>Sunday</td>\n",
       "    </tr>\n",
       "  </tbody>\n",
       "</table>\n",
       "</div>"
      ],
      "text/plain": [
       "              NAME       TASK ID         SUBJECT                     MODULE  \\\n",
       "7   Giridhar Yerra  YG2021082201          PYTHON                      Loops   \n",
       "8   Giridhar Yerra  YG2021082202  DATA ANALYTICS             Data Analytics   \n",
       "9   Giridhar Yerra  YG2021082203          PYTHON           Building Program   \n",
       "10  Giridhar Yerra    YG20210824          PYTHON           Building Program   \n",
       "11  Giridhar Yerra  YG2021082501          PYTHON             Comprehensions   \n",
       "12  Giridhar Yerra  YG2021082502             GIT               Git & GitHub   \n",
       "13  Giridhar Yerra  YG2021082601          PYTHON  Multiple Python Functions   \n",
       "14  Giridhar Yerra  YG2021082602             GIT               Git & GitHub   \n",
       "15  Giridhar Yerra    YG20210827          PYTHON            File Processing   \n",
       "16  Giridhar Yerra    YG20210828          PYTHON                    Modules   \n",
       "17  Giridhar Yerra    YG20210829          PYTHON                    Modules   \n",
       "\n",
       "                                           TOPIC NAME TOPIC ID START DATE  \\\n",
       "7                                           For,While  PY00008 2021-08-22   \n",
       "8                          Overview Of Data Analutics   DA0001 2021-08-22   \n",
       "9                                        Introduction  PY00009 2021-08-22   \n",
       "10                                    Build a Program  PY00010 2021-08-24   \n",
       "11                                List Comprehensions  PY00011 2021-08-25   \n",
       "12        Git Installation,Repositories,Commit & Push  GIT0001 2021-08-25   \n",
       "13       Functions and Multiple Aruguments,Parameters  PY00012 2021-08-26   \n",
       "14                                      Commit & Push  GIT0002 2021-08-26   \n",
       "15  Read a file ,Opening File using with,Different...  PY00013 2021-08-27   \n",
       "16              Built Modules,standard Python Modules  PY00014 2021-08-28   \n",
       "17                  Third-Party Modules with examples  PY00015 2021-08-29   \n",
       "\n",
       "     END DATE  SPEND HOURS           REFERNCES    weekday  \n",
       "7  2021-08-22            2               Udemy     Sunday  \n",
       "8  2021-08-22            4  youtube, w3schools     Sunday  \n",
       "9  2021-08-22            4               Udemy     Sunday  \n",
       "10 2021-08-24            2               Udemy    Tuesday  \n",
       "11 2021-08-25            4               Udemy  Wednesday  \n",
       "12 2021-08-25            5  youtube, w3schools  Wednesday  \n",
       "13 2021-08-26            7               Udemy   Thursday  \n",
       "14 2021-08-26            3  youtube, w3schools   Thursday  \n",
       "15 2021-08-27            2               Udemy     Friday  \n",
       "16 2021-08-28            3               Udemy   Saturday  \n",
       "17 2021-08-29            4               Udemy     Sunday  "
      ]
     },
     "execution_count": 82,
     "metadata": {},
     "output_type": "execute_result"
    }
   ],
   "source": [
    "data1=data.iloc[7:18]\n",
    "data1"
   ]
  },
  {
   "cell_type": "code",
   "execution_count": 96,
   "metadata": {},
   "outputs": [],
   "source": [
    "data[\"weekday\"] = data[\"START DATE\"].dt.strftime('%A')\n",
    "data7 = data1.groupby([\"SUBJECT\"])[\"NAME\"].count()\n"
   ]
  },
  {
   "cell_type": "code",
   "execution_count": 97,
   "metadata": {},
   "outputs": [
    {
     "data": {
      "text/plain": [
       "SUBJECT\n",
       "DATA ANALYTICS    1\n",
       "GIT               2\n",
       "PYTHON            8\n",
       "Name: NAME, dtype: int64"
      ]
     },
     "execution_count": 97,
     "metadata": {},
     "output_type": "execute_result"
    }
   ],
   "source": [
    "data7"
   ]
  },
  {
   "cell_type": "code",
   "execution_count": 152,
   "metadata": {},
   "outputs": [
    {
     "data": {
      "text/plain": [
       "<BarContainer object of 3 artists>"
      ]
     },
     "execution_count": 152,
     "metadata": {},
     "output_type": "execute_result"
    },
    {
     "data": {
      "image/png": "[encoded data removed]",
      "text/plain": [
       "<Figure size 720x504 with 1 Axes>"
      ]
     },
     "metadata": {
      "needs_background": "light"
     },
     "output_type": "display_data"
    }
   ],
   "source": [
    "plt.figure(figsize=(10, 7))\n",
    "plt.bar(data7.index, data7)"
   ]
  },
  {
   "cell_type": "code",
   "execution_count": 101,
   "metadata": {},
   "outputs": [],
   "source": [
    "data9 = data.groupby([\"SUBJECT\"])[\"SPEND HOURS\"].sum()"
   ]
  },
  {
   "cell_type": "code",
   "execution_count": 103,
   "metadata": {},
   "outputs": [
    {
     "data": {
      "text/plain": [
       "SUBJECT\n",
       "DATA ANALYTICS     82\n",
       "GIT                 8\n",
       "MYSQL DATABASE     38\n",
       "PYTHON            140\n",
       "Name: SPEND HOURS, dtype: int64"
      ]
     },
     "execution_count": 103,
     "metadata": {},
     "output_type": "execute_result"
    }
   ],
   "source": [
    "data9"
   ]
  },
  {
   "cell_type": "code",
   "execution_count": 150,
   "metadata": {},
   "outputs": [
    {
     "data": {
      "text/plain": [
       "([<matplotlib.patches.Wedge at 0x25d56de34c0>,\n",
       "  <matplotlib.patches.Wedge at 0x25d56de39d0>,\n",
       "  <matplotlib.patches.Wedge at 0x25d56de3e20>,\n",
       "  <matplotlib.patches.Wedge at 0x25d56def340>],\n",
       " [Text(0.6297598824502438, 0.9018882915617961, 'DATA ANALYTICS'),\n",
       "  Text(-0.4739501977226508, 0.9926586573836247, 'GIT'),\n",
       "  Text(-0.9164036553273934, 0.608444196703849, 'MYSQL DATABASE'),\n",
       "  Text(-0.07730378196445363, -1.0972803312253403, 'PYTHON')])"
      ]
     },
     "execution_count": 150,
     "metadata": {},
     "output_type": "execute_result"
    },
    {
     "data": {
      "image/png": "[encoded data removed]",
      "text/plain": [
       "<Figure size 1224x504 with 1 Axes>"
      ]
     },
     "metadata": {},
     "output_type": "display_data"
    }
   ],
   "source": [
    "plt.figure(figsize=(17, 7))\n",
    "plt.pie(data9, labels=data9.index)"
   ]
  },
  {
   "cell_type": "code",
   "execution_count": 129,
   "metadata": {},
   "outputs": [],
   "source": [
    "data[\"MONTH\"] = data[\"START DATE\"].dt.strftime('%m')"
   ]
  },
  {
   "cell_type": "code",
   "execution_count": 131,
   "metadata": {},
   "outputs": [
    {
     "data": {
      "text/plain": [
       "0     08\n",
       "1     08\n",
       "2     08\n",
       "3     08\n",
       "4     08\n",
       "      ..\n",
       "65    11\n",
       "66    11\n",
       "67    11\n",
       "68    11\n",
       "69    11\n",
       "Name: MONTH, Length: 70, dtype: object"
      ]
     },
     "execution_count": 131,
     "metadata": {},
     "output_type": "execute_result"
    }
   ],
   "source": [
    "data[\"MONTH\"]"
   ]
  },
  {
   "cell_type": "code",
   "execution_count": 135,
   "metadata": {},
   "outputs": [],
   "source": [
    "data07 = data[(data[\"SUBJECT\"]==\"PYTHON\") & (data[\"MONTH\"] == (\"08\"))]"
   ]
  },
  {
   "cell_type": "code",
   "execution_count": 143,
   "metadata": {},
   "outputs": [],
   "source": [
    "dataf= data07.groupby([\"START DATE\"])[\"SPEND HOURS\"].sum()"
   ]
  },
  {
   "cell_type": "code",
   "execution_count": 144,
   "metadata": {},
   "outputs": [
    {
     "data": {
      "text/plain": [
       "START DATE\n",
       "2021-08-18    7\n",
       "2021-08-19    5\n",
       "2021-08-20    2\n",
       "2021-08-21    6\n",
       "2021-08-22    6\n",
       "2021-08-24    2\n",
       "2021-08-25    4\n",
       "2021-08-26    7\n",
       "2021-08-27    2\n",
       "2021-08-28    3\n",
       "2021-08-29    4\n",
       "2021-08-30    5\n",
       "Name: SPEND HOURS, dtype: int64"
      ]
     },
     "execution_count": 144,
     "metadata": {},
     "output_type": "execute_result"
    }
   ],
   "source": [
    "dataf"
   ]
  },
  {
   "cell_type": "code",
   "execution_count": 149,
   "metadata": {},
   "outputs": [
    {
     "data": {
      "text/plain": [
       "[<matplotlib.lines.Line2D at 0x25d56d49490>]"
      ]
     },
     "execution_count": 149,
     "metadata": {},
     "output_type": "execute_result"
    },
    {
     "data": {
      "image/png": "[encoded data removed]",
      "text/plain": [
       "<Figure size 1224x504 with 1 Axes>"
      ]
     },
     "metadata": {
      "needs_background": "light"
     },
     "output_type": "display_data"
    }
   ],
   "source": [
    "plt.figure(figsize=(17, 7))\n",
    "plt.plot(dataf.index, dataf)"
   ]
  }
 ],
 "metadata": {
  "interpreter": {
   "hash": "0ac516125b3ee16d4eaa41f008fade7bad50b808bd1b6d74d2e8ae0015ba9066"
  },
  "kernelspec": {
   "display_name": "Python 3.9.7 64-bit",
   "language": "python",
   "name": "python3"
  },
  "language_info": {
   "codemirror_mode": {
    "name": "ipython",
    "version": 3
   },
   "file_extension": ".py",
   "mimetype": "text/x-python",
   "name": "python",
   "nbconvert_exporter": "python",
   "pygments_lexer": "ipython3",
   "version": "3.9.7"
  },
  "orig_nbformat": 4
 },
 "nbformat": 4,
 "nbformat_minor": 2
}
