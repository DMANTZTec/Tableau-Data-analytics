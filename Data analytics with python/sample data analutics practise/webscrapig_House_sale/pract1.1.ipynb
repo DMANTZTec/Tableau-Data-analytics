{
 "cells": [
  {
   "cell_type": "code",
   "execution_count": 13,
   "metadata": {},
   "outputs": [],
   "source": [
    "import pandas as pd\n",
    "from math import pi\n",
    "import pandas_bokeh\n",
    "from bokeh.palettes import Category20c\n",
    "from bokeh.models import ColumnDataSource\n",
    "from bokeh.palettes import Spectral6\n",
    "from bokeh.transform import cumsum\n",
    "from bokeh.plotting import figure, show, output_file\n",
    "from bokeh.embed import components\n",
    "from bokeh.resources import CDN"
   ]
  },
  {
   "cell_type": "code",
   "execution_count": 14,
   "metadata": {},
   "outputs": [],
   "source": [
    "df = pd.read_csv(\"Output.csv\")"
   ]
  },
  {
   "cell_type": "code",
   "execution_count": 15,
   "metadata": {},
   "outputs": [
    {
     "data": {
      "text/html": [
       "<div>\n",
       "<style scoped>\n",
       "    .dataframe tbody tr th:only-of-type {\n",
       "        vertical-align: middle;\n",
       "    }\n",
       "\n",
       "    .dataframe tbody tr th {\n",
       "        vertical-align: top;\n",
       "    }\n",
       "\n",
       "    .dataframe thead th {\n",
       "        text-align: right;\n",
       "    }\n",
       "</style>\n",
       "<table border=\"1\" class=\"dataframe\">\n",
       "  <thead>\n",
       "    <tr style=\"text-align: right;\">\n",
       "      <th></th>\n",
       "      <th>Address</th>\n",
       "      <th>Beds</th>\n",
       "      <th>value</th>\n",
       "      <th>angle</th>\n",
       "      <th>color</th>\n",
       "    </tr>\n",
       "  </thead>\n",
       "  <tbody>\n",
       "    <tr>\n",
       "      <th>0</th>\n",
       "      <td>1021PilotButte</td>\n",
       "      <td>3beds</td>\n",
       "      <td>205000</td>\n",
       "      <td>0.920038</td>\n",
       "      <td>#3182bd</td>\n",
       "    </tr>\n",
       "    <tr>\n",
       "      <th>1</th>\n",
       "      <td>121311thStreet</td>\n",
       "      <td>1bed</td>\n",
       "      <td>85000</td>\n",
       "      <td>0.381479</td>\n",
       "      <td>#6baed6</td>\n",
       "    </tr>\n",
       "    <tr>\n",
       "      <th>2</th>\n",
       "      <td>1438RaindanceDrive</td>\n",
       "      <td>2beds</td>\n",
       "      <td>95000</td>\n",
       "      <td>0.426359</td>\n",
       "      <td>#9ecae1</td>\n",
       "    </tr>\n",
       "    <tr>\n",
       "      <th>3</th>\n",
       "      <td>310CollegeLane</td>\n",
       "      <td>4beds</td>\n",
       "      <td>425000</td>\n",
       "      <td>1.907396</td>\n",
       "      <td>#c6dbef</td>\n",
       "    </tr>\n",
       "    <tr>\n",
       "      <th>4</th>\n",
       "      <td>3420MadisonDr</td>\n",
       "      <td>4beds</td>\n",
       "      <td>220000</td>\n",
       "      <td>0.987358</td>\n",
       "      <td>#e6550d</td>\n",
       "    </tr>\n",
       "    <tr>\n",
       "      <th>5</th>\n",
       "      <td>349ViaAssisi</td>\n",
       "      <td>5beds</td>\n",
       "      <td>370000</td>\n",
       "      <td>1.660556</td>\n",
       "      <td>#fd8d3c</td>\n",
       "    </tr>\n",
       "  </tbody>\n",
       "</table>\n",
       "</div>"
      ],
      "text/plain": [
       "              Address   Beds   value     angle    color\n",
       "0      1021PilotButte  3beds  205000  0.920038  #3182bd\n",
       "1      121311thStreet   1bed   85000  0.381479  #6baed6\n",
       "2  1438RaindanceDrive  2beds   95000  0.426359  #9ecae1\n",
       "3      310CollegeLane  4beds  425000  1.907396  #c6dbef\n",
       "4       3420MadisonDr  4beds  220000  0.987358  #e6550d\n",
       "5        349ViaAssisi  5beds  370000  1.660556  #fd8d3c"
      ]
     },
     "execution_count": 15,
     "metadata": {},
     "output_type": "execute_result"
    }
   ],
   "source": [
    "v = df.groupby([\"Address\", \"Beds\"])[\"Price\"].sum()\n",
    "v1 = dict(v)\n",
    "v2 = pd.Series(v1).reset_index(name=\"value\").rename(columns={\"level_0\": \"Address\", \"level_1\": \"Beds\"})\n",
    "v2['angle'] = v2['value']/v2['value'].sum() * 2*pi\n",
    "v2['color'] = Category20c[len(v1)]\n",
    "v2"
   ]
  },
  {
   "cell_type": "code",
   "execution_count": 16,
   "metadata": {},
   "outputs": [],
   "source": [
    "p = figure(height=350, title=\"Pie Chart\", toolbar_location=None,\n",
    "           tools=\"hover\", tooltips=\"@Address, @Beds: @@value\", x_range=(-0.5, 1.0))"
   ]
  },
  {
   "cell_type": "code",
   "execution_count": 17,
   "metadata": {},
   "outputs": [],
   "source": [
    "p.wedge(x=0, y=1, radius=0.4,\n",
    "        start_angle=cumsum('angle', include_zero=True), end_angle=cumsum('angle'),\n",
    "        line_color=\"white\", fill_color='color', legend_field='Address', source=v2)\n",
    "\n",
    "p.axis.axis_label = None\n",
    "p.axis.visible = False\n",
    "p.grid.grid_line_color = None\n",
    "\n",
    "show(p)"
   ]
  },
  {
   "cell_type": "code",
   "execution_count": 18,
   "metadata": {},
   "outputs": [],
   "source": [
    "components(p)\n",
    "cdn_js = CDN.js_files\n",
    "cdn_css = CDN.css_files"
   ]
  },
  {
   "cell_type": "code",
   "execution_count": 20,
   "metadata": {},
   "outputs": [
    {
     "data": {
      "text/plain": [
       "'https://cdn.bokeh.org/bokeh/release/bokeh-2.4.0.min.js'"
      ]
     },
     "execution_count": 20,
     "metadata": {},
     "output_type": "execute_result"
    }
   ],
   "source": [
    "cdn_js[0]"
   ]
  },
  {
   "cell_type": "code",
   "execution_count": 22,
   "metadata": {},
   "outputs": [],
   "source": [
    "  \n",
    "s = df.groupby([\"Address\"])[\"Price\"].sum()\n",
    "s1 = s.index.tolist()\n",
    "\n",
    "# s = df[\"Price\"].tolist()\n",
    "# print(s1)\n",
    "\n",
    "source = ColumnDataSource(data=dict(s1=s1, s=s, color=Spectral6))\n",
    "\n",
    "d = figure(x_range = s1, width = 950, height = 370, title = \"Chart on Price by address\",\n",
    "            tooltips = \"@s1 : @s\")\n",
    "\n",
    "d.vbar(x = \"s1\", top = \"s\", width=0.6, color=\"color\", legend_field= \"s1\", source=source)\n",
    "\n",
    "d.xgrid.grid_line_color = None\n",
    "d.legend.orientation = \"horizontal\"\n",
    "d.legend.location = \"top_center\"\n",
    "\n",
    "show(d)"
   ]
  },
  {
   "cell_type": "code",
   "execution_count": 23,
   "metadata": {},
   "outputs": [],
   "source": [
    "components(d)\n",
    "cdn_js = CDN.js_files\n",
    "cdn_css = CDN.css_files"
   ]
  },
  {
   "cell_type": "code",
   "execution_count": 25,
   "metadata": {},
   "outputs": [
    {
     "data": {
      "text/plain": [
       "'https://cdn.bokeh.org/bokeh/release/bokeh-2.4.0.min.js'"
      ]
     },
     "execution_count": 25,
     "metadata": {},
     "output_type": "execute_result"
    }
   ],
   "source": [
    "cdn_js[0]"
   ]
  }
 ],
 "metadata": {
  "interpreter": {
   "hash": "0ac516125b3ee16d4eaa41f008fade7bad50b808bd1b6d74d2e8ae0015ba9066"
  },
  "kernelspec": {
   "display_name": "Python 3.9.7 64-bit",
   "language": "python",
   "name": "python3"
  },
  "language_info": {
   "codemirror_mode": {
    "name": "ipython",
    "version": 3
   },
   "file_extension": ".py",
   "mimetype": "text/x-python",
   "name": "python",
   "nbconvert_exporter": "python",
   "pygments_lexer": "ipython3",
   "version": "3.9.7"
  },
  "orig_nbformat": 4
 },
 "nbformat": 4,
 "nbformat_minor": 2
}
