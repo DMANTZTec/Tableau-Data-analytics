{
 "cells": [
  {
   "cell_type": "code",
   "execution_count": 61,
   "metadata": {},
   "outputs": [],
   "source": [
    "from bokeh.layouts import column\n",
    "import pandas as pd \n",
    "data = pd.read_csv(\"extract.csv\")\n",
    "from bokeh.models import ColumnDataSource\n",
    "from bokeh.plotting import figure, show\n",
    "from bokeh.palettes import Spectral5, Category20c\n",
    "from bokeh.resources import CDN"
   ]
  },
  {
   "cell_type": "code",
   "execution_count": 3,
   "metadata": {},
   "outputs": [
    {
     "data": {
      "text/html": [
       "<div>\n",
       "<style scoped>\n",
       "    .dataframe tbody tr th:only-of-type {\n",
       "        vertical-align: middle;\n",
       "    }\n",
       "\n",
       "    .dataframe tbody tr th {\n",
       "        vertical-align: top;\n",
       "    }\n",
       "\n",
       "    .dataframe thead th {\n",
       "        text-align: right;\n",
       "    }\n",
       "</style>\n",
       "<table border=\"1\" class=\"dataframe\">\n",
       "  <thead>\n",
       "    <tr style=\"text-align: right;\">\n",
       "      <th></th>\n",
       "      <th>SquareFeet</th>\n",
       "      <th>Category</th>\n",
       "      <th>Address</th>\n",
       "      <th>Price</th>\n",
       "    </tr>\n",
       "  </thead>\n",
       "  <tbody>\n",
       "    <tr>\n",
       "      <th>0</th>\n",
       "      <td>47</td>\n",
       "      <td>House13</td>\n",
       "      <td>1 BHK House  for sale in Nagarjuna Sagar Dam...</td>\n",
       "      <td>17</td>\n",
       "    </tr>\n",
       "    <tr>\n",
       "      <th>1</th>\n",
       "      <td>48</td>\n",
       "      <td>House5</td>\n",
       "      <td>1 BHK House  for sale in Choutuppal Nalgonda</td>\n",
       "      <td>45</td>\n",
       "    </tr>\n",
       "    <tr>\n",
       "      <th>2</th>\n",
       "      <td>83</td>\n",
       "      <td>House14</td>\n",
       "      <td>1 BHK House  for sale in R.P. Road Nalgonda</td>\n",
       "      <td>35</td>\n",
       "    </tr>\n",
       "    <tr>\n",
       "      <th>3</th>\n",
       "      <td>180</td>\n",
       "      <td>House8</td>\n",
       "      <td>3 BHK House  for sale in Nalgonda</td>\n",
       "      <td>76</td>\n",
       "    </tr>\n",
       "    <tr>\n",
       "      <th>4</th>\n",
       "      <td>200</td>\n",
       "      <td>House9</td>\n",
       "      <td>2 BHK House  for sale in R.P. Road Nalgonda</td>\n",
       "      <td>47</td>\n",
       "    </tr>\n",
       "    <tr>\n",
       "      <th>5</th>\n",
       "      <td>216</td>\n",
       "      <td>House10</td>\n",
       "      <td>5 BHK House  for sale in Ramgiri Nalgonda</td>\n",
       "      <td>60</td>\n",
       "    </tr>\n",
       "    <tr>\n",
       "      <th>6</th>\n",
       "      <td>217</td>\n",
       "      <td>House11</td>\n",
       "      <td>2 BHK House  for sale in Nalgonda</td>\n",
       "      <td>70</td>\n",
       "    </tr>\n",
       "    <tr>\n",
       "      <th>7</th>\n",
       "      <td>255</td>\n",
       "      <td>House7</td>\n",
       "      <td>3 BHK House  for sale in Srisailam Road Nalg...</td>\n",
       "      <td>50</td>\n",
       "    </tr>\n",
       "    <tr>\n",
       "      <th>8</th>\n",
       "      <td>882</td>\n",
       "      <td>House2</td>\n",
       "      <td>4 BHK House  for sale in Suryapet Nalgonda</td>\n",
       "      <td>55</td>\n",
       "    </tr>\n",
       "    <tr>\n",
       "      <th>9</th>\n",
       "      <td>1000</td>\n",
       "      <td>House12</td>\n",
       "      <td>2 BHK House  for sale in R.P. Road Nalgonda</td>\n",
       "      <td>62</td>\n",
       "    </tr>\n",
       "    <tr>\n",
       "      <th>10</th>\n",
       "      <td>1600</td>\n",
       "      <td>House15</td>\n",
       "      <td>3 BHK House  for sale in Ramgiri Nalgonda</td>\n",
       "      <td>88</td>\n",
       "    </tr>\n",
       "    <tr>\n",
       "      <th>11</th>\n",
       "      <td>1660</td>\n",
       "      <td>House1</td>\n",
       "      <td>3 BHK House  for sale in R.P. Road Nalgonda</td>\n",
       "      <td>60</td>\n",
       "    </tr>\n",
       "    <tr>\n",
       "      <th>12</th>\n",
       "      <td>1915</td>\n",
       "      <td>House3</td>\n",
       "      <td>4 BHK House  for sale in Kodad Nalgonda</td>\n",
       "      <td>80</td>\n",
       "    </tr>\n",
       "    <tr>\n",
       "      <th>13</th>\n",
       "      <td>2169</td>\n",
       "      <td>House6</td>\n",
       "      <td>2 BHK House  for sale in Miryalaguda Nalgonda</td>\n",
       "      <td>46</td>\n",
       "    </tr>\n",
       "    <tr>\n",
       "      <th>14</th>\n",
       "      <td>2800</td>\n",
       "      <td>House4</td>\n",
       "      <td>4 BHK House  for sale in Miryalaguda Nalgonda</td>\n",
       "      <td>60</td>\n",
       "    </tr>\n",
       "  </tbody>\n",
       "</table>\n",
       "</div>"
      ],
      "text/plain": [
       "    SquareFeet Category                                            Address  \\\n",
       "0           47  House13    1 BHK House  for sale in Nagarjuna Sagar Dam...   \n",
       "1           48   House5      1 BHK House  for sale in Choutuppal Nalgonda    \n",
       "2           83  House14       1 BHK House  for sale in R.P. Road Nalgonda    \n",
       "3          180   House8                 3 BHK House  for sale in Nalgonda    \n",
       "4          200   House9       2 BHK House  for sale in R.P. Road Nalgonda    \n",
       "5          216  House10         5 BHK House  for sale in Ramgiri Nalgonda    \n",
       "6          217  House11                 2 BHK House  for sale in Nalgonda    \n",
       "7          255   House7    3 BHK House  for sale in Srisailam Road Nalg...   \n",
       "8          882   House2        4 BHK House  for sale in Suryapet Nalgonda    \n",
       "9         1000  House12       2 BHK House  for sale in R.P. Road Nalgonda    \n",
       "10        1600  House15         3 BHK House  for sale in Ramgiri Nalgonda    \n",
       "11        1660   House1       3 BHK House  for sale in R.P. Road Nalgonda    \n",
       "12        1915   House3           4 BHK House  for sale in Kodad Nalgonda    \n",
       "13        2169   House6     2 BHK House  for sale in Miryalaguda Nalgonda    \n",
       "14        2800   House4     4 BHK House  for sale in Miryalaguda Nalgonda    \n",
       "\n",
       "    Price  \n",
       "0      17  \n",
       "1      45  \n",
       "2      35  \n",
       "3      76  \n",
       "4      47  \n",
       "5      60  \n",
       "6      70  \n",
       "7      50  \n",
       "8      55  \n",
       "9      62  \n",
       "10     88  \n",
       "11     60  \n",
       "12     80  \n",
       "13     46  \n",
       "14     60  "
      ]
     },
     "execution_count": 3,
     "metadata": {},
     "output_type": "execute_result"
    }
   ],
   "source": [
    "bf = data.groupby([\"SquareFeet\",\"Category\",\"Address\"])[\"Price\"].sum()\n",
    "f = pd.Series(bf).reset_index(name=\"Price\")\n",
    "f"
   ]
  },
  {
   "cell_type": "code",
   "execution_count": 5,
   "metadata": {},
   "outputs": [
    {
     "data": {
      "text/plain": [
       "['House13',\n",
       " 'House5',\n",
       " 'House14',\n",
       " 'House8',\n",
       " 'House9',\n",
       " 'House10',\n",
       " 'House11',\n",
       " 'House7',\n",
       " 'House2',\n",
       " 'House12',\n",
       " 'House15',\n",
       " 'House1',\n",
       " 'House3',\n",
       " 'House6',\n",
       " 'House4']"
      ]
     },
     "execution_count": 5,
     "metadata": {},
     "output_type": "execute_result"
    }
   ],
   "source": [
    "f1 = f[\"Category\"].tolist()\n",
    "f1"
   ]
  },
  {
   "cell_type": "code",
   "execution_count": 6,
   "metadata": {},
   "outputs": [
    {
     "data": {
      "text/plain": [
       "[47, 48, 83, 180, 200, 216, 217, 255, 882, 1000, 1600, 1660, 1915, 2169, 2800]"
      ]
     },
     "execution_count": 6,
     "metadata": {},
     "output_type": "execute_result"
    }
   ],
   "source": [
    "f3 = f[\"SquareFeet\"].tolist()\n",
    "f3"
   ]
  },
  {
   "cell_type": "code",
   "execution_count": 8,
   "metadata": {},
   "outputs": [
    {
     "data": {
      "text/plain": [
       "[17, 45, 35, 76, 47, 60, 70, 50, 55, 62, 88, 60, 80, 46, 60]"
      ]
     },
     "execution_count": 8,
     "metadata": {},
     "output_type": "execute_result"
    }
   ],
   "source": [
    "f2 = f[\"Price\"].tolist()\n",
    "f2"
   ]
  },
  {
   "cell_type": "code",
   "execution_count": 54,
   "metadata": {},
   "outputs": [],
   "source": [
    "import numpy as np\n",
    "h = np.arange(10, 100, 10)"
   ]
  },
  {
   "cell_type": "code",
   "execution_count": 60,
   "metadata": {},
   "outputs": [],
   "source": [
    "source = ColumnDataSource(data=dict(f1 = f1, f2 = f2, f3=f3, color=Category20c[len(f1)]))\n",
    "\n",
    "gf = figure(x_range=f1, width=1300, height=610, toolbar_location=None,\n",
    "            tools=\"hover\", tooltips=\"@f1,@f3 sqft : @f2 Lac\", title=\"prices of houses\")\n",
    "\n",
    "gf.vbar(x=\"f1\", top=\"f2\", width=0.6, color=\"color\", legend_field=\"f1\", source=source)\n",
    "\n",
    "gf.grid.grid_line_alpha = 0\n",
    "gf.legend.orientation = \"horizontal\"\n",
    "gf.legend.location = \"top_center\"\n",
    "\n",
    "show(gf)"
   ]
  },
  {
   "cell_type": "code",
   "execution_count": 66,
   "metadata": {},
   "outputs": [
    {
     "data": {
      "text/plain": [
       "<bokeh.resources.Resources at 0x23683ed11f0>"
      ]
     },
     "execution_count": 66,
     "metadata": {},
     "output_type": "execute_result"
    }
   ],
   "source": [
    "CDN"
   ]
  }
 ],
 "metadata": {
  "interpreter": {
   "hash": "0ac516125b3ee16d4eaa41f008fade7bad50b808bd1b6d74d2e8ae0015ba9066"
  },
  "kernelspec": {
   "display_name": "Python 3.9.7 64-bit",
   "language": "python",
   "name": "python3"
  },
  "language_info": {
   "codemirror_mode": {
    "name": "ipython",
    "version": 3
   },
   "file_extension": ".py",
   "mimetype": "text/x-python",
   "name": "python",
   "nbconvert_exporter": "python",
   "pygments_lexer": "ipython3",
   "version": "3.9.7"
  },
  "orig_nbformat": 4
 },
 "nbformat": 4,
 "nbformat_minor": 2
}
